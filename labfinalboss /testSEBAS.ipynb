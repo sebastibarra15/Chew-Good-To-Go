{
  "cells": [
    {
      "cell_type": "markdown",
      "metadata": {
        "id": "view-in-github",
        "colab_type": "text"
      },
      "source": [
        "<a href=\"https://colab.research.google.com/github/sebastibarra15/Chew-Good-To-Go/blob/main/labfinalboss%20/testSEBAS.ipynb\" target=\"_parent\"><img src=\"https://colab.research.google.com/assets/colab-badge.svg\" alt=\"Open In Colab\"/></a>"
      ]
    },
    {
      "cell_type": "code",
      "id": "initial_id",
      "metadata": {
        "collapsed": true,
        "ExecuteTime": {
          "end_time": "2024-11-28T15:24:40.355999Z",
          "start_time": "2024-11-28T15:24:40.345729Z"
        },
        "id": "initial_id"
      },
      "source": [
        "import numpy as np"
      ],
      "outputs": [],
      "execution_count": null
    },
    {
      "metadata": {
        "id": "1a612a5ad8fb8043"
      },
      "cell_type": "code",
      "outputs": [],
      "execution_count": null,
      "source": [
        "a = np.array([1,2,3])"
      ],
      "id": "1a612a5ad8fb8043"
    },
    {
      "cell_type": "code",
      "source": [
        "b = np.array([[1,2,3],[4,5,6]])"
      ],
      "metadata": {
        "id": "JDFpHoxicr8G"
      },
      "id": "JDFpHoxicr8G",
      "execution_count": null,
      "outputs": []
    }
  ],
  "metadata": {
    "kernelspec": {
      "display_name": "Python 3",
      "language": "python",
      "name": "python3"
    },
    "language_info": {
      "codemirror_mode": {
        "name": "ipython",
        "version": 2
      },
      "file_extension": ".py",
      "mimetype": "text/x-python",
      "name": "python",
      "nbconvert_exporter": "python",
      "pygments_lexer": "ipython2",
      "version": "2.7.6"
    },
    "colab": {
      "provenance": [],
      "include_colab_link": true
    }
  },
  "nbformat": 4,
  "nbformat_minor": 5
}